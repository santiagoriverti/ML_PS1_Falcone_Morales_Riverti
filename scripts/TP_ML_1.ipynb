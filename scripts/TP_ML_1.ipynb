{
  "cells": [
    {
      "cell_type": "markdown",
      "metadata": {
        "id": "IKYQt3djuFTA"
      },
      "source": [
        "# ML - Problem Set 1: Predicting Income"
      ]
    },
    {
      "cell_type": "code",
      "execution_count": 1,
      "metadata": {
        "id": "o6Z_ly1O3q0F"
      },
      "outputs": [],
      "source": [
        "# ----------------------------------------------------------------------\n",
        "# Instala librerias\n",
        "# ----------------------------------------------------------------------"
      ]
    },
    {
      "cell_type": "code",
      "execution_count": 2,
      "metadata": {
        "id": "qReZy_hQ3RJG"
      },
      "outputs": [],
      "source": [
        "# ----------------------------------------------------------------------\n",
        "# Importar librerias\n",
        "# ----------------------------------------------------------------------\n",
        "import requests\n",
        "from bs4 import BeautifulSoup\n",
        "import pandas as pd\n",
        "import numpy as np\n",
        "from sklearn.model_selection import train_test_split, cross_val_score, KFold\n",
        "from sklearn.linear_model import LinearRegression\n",
        "from sklearn.preprocessing import PolynomialFeatures\n",
        "from sklearn.tree import DecisionTreeRegressor\n",
        "from sklearn.ensemble import RandomForestRegressor, GradientBoostingRegressor\n",
        "from sklearn.metrics import mean_squared_error\n",
        "import seaborn as sns\n",
        "import matplotlib.pyplot as plt\n",
        "import gc\n",
        "from sklearn.impute import SimpleImputer"
      ]
    },
    {
      "cell_type": "markdown",
      "metadata": {
        "id": "H_fOuHjKuNe5"
      },
      "source": [
        "## 2. Data"
      ]
    },
    {
      "cell_type": "code",
      "execution_count": null,
      "metadata": {
        "id": "Ue4ByirhGvTH"
      },
      "outputs": [],
      "source": [
        "# ----------------------------------------------------------------------\n",
        "# Adquisición de datos\n",
        "# ----------------------------------------------------------------------\n",
        "base_url = \"https://ignaciomsarmiento.github.io/GEIH2018_sample/pages/geih_page_{}.html\"\n",
        "all_data = []\n",
        "\n",
        "for i in range(1, 11):  # Iterar sobre las 10 páginas\n",
        "    url = base_url.format(i)\n",
        "    response = requests.get(url)\n",
        "    soup = BeautifulSoup(response.content, 'html.parser')\n",
        "\n",
        "    # Extraer la tabla de la página\n",
        "    table = soup.find('table')\n",
        "    if table:\n",
        "        # Encabezados de la tabla\n",
        "        headers = [th.text.strip() for th in table.find_all('th')]\n",
        "\n",
        "        # Filas de la tabla\n",
        "        rows = [\n",
        "            [cell.text.strip() for cell in row.find_all('td')]\n",
        "            for row in table.find_all('tr')[1:]  # Excluir encabezado\n",
        "        ]\n",
        "\n",
        "        # Crear un DataFrame para la página actual\n",
        "        df = pd.DataFrame(rows, columns=headers)\n",
        "        all_data.append(df)\n",
        "\n",
        "# Concatenar todos los DataFrames en uno solo\n",
        "final_data = pd.concat(all_data, ignore_index=True)\n",
        "\n",
        "# Guardar en un archivo CSV\n",
        "final_data.to_csv(\"geih_2018_bogota.csv\", index=False)"
      ]
    },
    {
      "cell_type": "code",
      "execution_count": 6,
      "metadata": {
        "colab": {
          "base_uri": "https://localhost:8080/"
        },
        "id": "kVWqs2nAFTUl",
        "outputId": "4ad27d5c-40f0-4fc9-ea00-963cad6a8620"
      },
      "outputs": [
        {
          "output_type": "stream",
          "name": "stderr",
          "text": [
            "<ipython-input-6-dc1f0a26ed91>:17: SettingWithCopyWarning: \n",
            "A value is trying to be set on a copy of a slice from a DataFrame.\n",
            "Try using .loc[row_indexer,col_indexer] = value instead\n",
            "\n",
            "See the caveats in the documentation: https://pandas.pydata.org/pandas-docs/stable/user_guide/indexing.html#returning-a-view-versus-a-copy\n",
            "  filtered['hourly_wage'] = filtered['y_salary_m'].astype(float) / filtered['hoursWorkUsual'].astype(float)\n"
          ]
        }
      ],
      "source": [
        "# ----------------------------------------------------------------------\n",
        "# Cargar y limpiar datos\n",
        "# ----------------------------------------------------------------------\n",
        "\n",
        "# Cargar el archivo CSV previamente almacenado\n",
        "final_data = pd.read_csv(\"geih_2018_bogota.csv\") #se toma del csv para poder procesarlo sin que se agote la memoria RAM\n",
        "\n",
        "# Función para limpiar los datos\n",
        "def clean_data(df):\n",
        "    df['y_salary_m'] = pd.to_numeric(df['y_salary_m'], errors='coerce')\n",
        "    filtered = df[\n",
        "        (df['age'].astype(float) > 18) &\n",
        "        (df['ocu'].astype(float) == 1) &\n",
        "        (df['y_salary_m'] > 0) &\n",
        "        df['y_salary_m'].notnull()\n",
        "    ]\n",
        "    filtered['hourly_wage'] = filtered['y_salary_m'].astype(float) / filtered['hoursWorkUsual'].astype(float)\n",
        "    filtered = filtered.dropna(subset=['hourly_wage', 'age', 'sex', 'maxEducLevel'])\n",
        "\n",
        "\n",
        "    # Seleccionar una muestra del 5% para reducir tamaño (para poder correr el modelo)\n",
        "    filtered = filtered.sample(frac=0.05, random_state=123)\n",
        "\n",
        "    # Convertir variables categóricas\n",
        "    categorical_columns = filtered.select_dtypes(include=['object']).columns\n",
        "    return pd.get_dummies(filtered, columns=categorical_columns, drop_first=True)\n",
        "\n",
        "# Aplicar la limpieza de datos\n",
        "filtered_data = clean_data(final_data)"
      ]
    },
    {
      "cell_type": "markdown",
      "metadata": {
        "id": "qgswrlGtugBf"
      },
      "source": [
        "## Predicting wages"
      ]
    },
    {
      "cell_type": "code",
      "execution_count": 7,
      "metadata": {
        "id": "oNndD1rjujcb",
        "colab": {
          "base_uri": "https://localhost:8080/",
          "height": 628
        },
        "outputId": "c0808637-b881-4a7a-c67a-1aac311b1def"
      },
      "outputs": [
        {
          "output_type": "stream",
          "name": "stdout",
          "text": [
            "\n",
            "Resultados de RMSE para cada modelo:\n",
            "Linear Regression: RMSE = 0.01\n",
            "Polynomial Regression (degree=2): RMSE = 65550.05\n",
            "Decision Tree (max_depth=5): RMSE = 12709.61\n",
            "Random Forest (n_estimators=50): RMSE = 6894.06\n",
            "Gradient Boosting: RMSE = 3664.13\n",
            "\n",
            "Mejor modelo: Linear Regression\n"
          ]
        },
        {
          "output_type": "display_data",
          "data": {
            "text/plain": [
              "<Figure size 640x480 with 1 Axes>"
            ],
            "image/png": "[encoded data removed]"
          },
          "metadata": {}
        }
      ],
      "source": [
        "# ----------------------------------------------------------------------\n",
        "# Modelado y evaluación\n",
        "# ----------------------------------------------------------------------\n",
        "X = filtered_data.drop(columns=['hourly_wage'])\n",
        "y = filtered_data['hourly_wage']\n",
        "\n",
        "# División de los datos\n",
        "X_train, X_test, y_train, y_test = train_test_split(X, y, test_size=0.3, random_state=123)\n",
        "\n",
        "# Eliminar columnas con solo NaN en el conjunto de entrenamiento\n",
        "nan_columns = X_train.columns[X_train.isnull().all()]\n",
        "X_train = X_train.drop(columns=nan_columns)\n",
        "X_test = X_test.drop(columns=nan_columns)  # Asegurarse de que ambas matrices coincidan\n",
        "\n",
        "# Imputar valores faltantes con la mediana\n",
        "imputer = SimpleImputer(strategy=\"median\")\n",
        "X_train = pd.DataFrame(imputer.fit_transform(X_train), columns=X_train.columns)\n",
        "X_test = pd.DataFrame(imputer.transform(X_test), columns=X_test.columns)\n",
        "\n",
        "# Modelos a evaluar\n",
        "models = {\n",
        "    \"Linear Regression\": LinearRegression(),\n",
        "    \"Polynomial Regression (degree=2)\": PolynomialFeatures(degree=2),\n",
        "    \"Decision Tree (max_depth=5)\": DecisionTreeRegressor(max_depth=5),\n",
        "    \"Random Forest (n_estimators=50)\": RandomForestRegressor(n_estimators=50, random_state=123),\n",
        "    \"Gradient Boosting\": GradientBoostingRegressor(random_state=123)\n",
        "}\n",
        "\n",
        "results = {}\n",
        "\n",
        "for name, model in models.items():\n",
        "    if \"Polynomial\" in name:\n",
        "        # Preprocesar las características para la regresión polinómica\n",
        "        poly = PolynomialFeatures(degree=2)\n",
        "        X_train_poly = poly.fit_transform(X_train)\n",
        "        X_test_poly = poly.transform(X_test)\n",
        "\n",
        "        # Ajustar modelo de regresión lineal con las características polinómicas\n",
        "        linear_poly = LinearRegression()\n",
        "        linear_poly.fit(X_train_poly, y_train)\n",
        "        y_pred = linear_poly.predict(X_test_poly)\n",
        "\n",
        "        # Calcular RMSE\n",
        "        rmse = np.sqrt(mean_squared_error(y_test, y_pred))\n",
        "        results[name] = rmse\n",
        "    else:\n",
        "        # Otros modelos\n",
        "        model.fit(X_train, y_train)\n",
        "        y_pred = model.predict(X_test)\n",
        "\n",
        "        # Calcular RMSE\n",
        "        rmse = np.sqrt(mean_squared_error(y_test, y_pred))\n",
        "        results[name] = rmse\n",
        "\n",
        "# Resultados\n",
        "print(\"\\nResultados de RMSE para cada modelo:\")\n",
        "for model, error in results.items():\n",
        "    print(f\"{model}: RMSE = {error:.2f}\")\n",
        "\n",
        "# Mejor modelo y errores\n",
        "best_model_name = min(results, key=results.get)\n",
        "print(f\"\\nMejor modelo: {best_model_name}\")\n",
        "\n",
        "# Calcular errores de predicción\n",
        "if \"Polynomial\" in best_model_name:\n",
        "    errors = y_test - linear_poly.predict(X_test_poly)\n",
        "else:\n",
        "    errors = y_test - models[best_model_name].predict(X_test)\n",
        "\n",
        "# Visualización de errores\n",
        "sns.histplot(errors, kde=True, bins=30)\n",
        "plt.title('Distribución de Errores de Predicción')\n",
        "plt.xlabel('Error')\n",
        "plt.ylabel('Frecuencia')\n",
        "plt.show()"
      ]
    },
    {
      "cell_type": "code",
      "execution_count": 8,
      "metadata": {
        "id": "aIRCjQfb1UTK",
        "colab": {
          "base_uri": "https://localhost:8080/"
        },
        "outputId": "b311d3ad-62c6-4a8f-ef35-1881803540b9"
      },
      "outputs": [
        {
          "output_type": "stream",
          "name": "stdout",
          "text": [
            "\n",
            "Resultados de K-Fold (5-fold):\n",
            "Linear Regression (K-Fold): RMSE = 24.16\n",
            "Gradient Boosting (K-Fold): RMSE = 14444.88\n"
          ]
        }
      ],
      "source": [
        "# ----------------------------------------------------------------------\n",
        "# Validación cruzada K-Fold\n",
        "# ----------------------------------------------------------------------\n",
        "\n",
        "# Eliminar columnas con todos los valores NaN\n",
        "X = X.dropna(axis=1, how='all')\n",
        "\n",
        "# Imputar valores faltantes en X completo antes de la validación cruzada\n",
        "imputer = SimpleImputer(strategy=\"median\")\n",
        "X = pd.DataFrame(imputer.fit_transform(X), columns=X.columns)\n",
        "\n",
        "# Validación cruzada K-Fold\n",
        "kf = KFold(n_splits=5, shuffle=True, random_state=123)\n",
        "\n",
        "print(\"\\nResultados de K-Fold (5-fold):\")\n",
        "for model_name in sorted(results, key=results.get)[:2]:\n",
        "    model = models[model_name]\n",
        "    scores = cross_val_score(model, X, y, cv=kf, scoring='neg_mean_squared_error')\n",
        "    rmse_kfold = np.sqrt(-scores.mean())\n",
        "    print(f\"{model_name} (K-Fold): RMSE = {rmse_kfold:.2f}\")"
      ]
    }
  ],
  "metadata": {
    "colab": {
      "provenance": []
    },
    "kernelspec": {
      "display_name": "Python (Pyodide)",
      "language": "python",
      "name": "python"
    },
    "language_info": {
      "codemirror_mode": {
        "name": "python",
        "version": 3
      },
      "file_extension": ".py",
      "mimetype": "text/x-python",
      "name": "python",
      "nbconvert_exporter": "python",
      "pygments_lexer": "ipython3",
      "version": "3.8"
    }
  },
  "nbformat": 4,
  "nbformat_minor": 0
}