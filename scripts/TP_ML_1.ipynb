{
  "cells": [
    {
      "cell_type": "markdown",
      "metadata": {
        "id": "g-KfFKrM34hx"
      },
      "source": [
        "# ML - Problem Set 1: Predicting Income\n",
        "\n",
        "Un modelo de predicción de ingresos podría ayudar a detectar casos de fraude que podrían conducir a la reducción de la evasion impositiva. Además, un modelo de predicción de ingresos puede ayudar a identificar a las personas y familias vulnerables que pueden necesitar más ayuda.\n",
        "\n",
        "Para ello, vamos a extraer información del siguiente [sitio](https://ignaciomsarmiento.github.io/GEIH2018_sample/). Este contiene datos de Bogotá del “Informe de Medicina de Pobreza Monetaria y Desigualdad” de 2018 que toma información del GEIH.\n",
        "\n",
        "El objetivo principal es construir un modelo de salarios horarios individuales\n",
        "\n",
        "\\begin{equation}\n",
        "w = f(X) + u \\tag{1}\n",
        "\\end{equation}\n",
        "\n",
        "donde $w$ es el salario por hora y $X$ es una matriz que incluye posibles variables explicativas/predictores. En este conjunto de problemas, nos centraremos en $f(X) = X \\beta$."
      ]
    },
    {
      "cell_type": "markdown",
      "metadata": {
        "id": "j-smeatr6Y82"
      },
      "source": [
        "## 1 Extraccion de datos"
      ]
    },
    {
      "cell_type": "code",
      "execution_count": 9,
      "metadata": {
        "id": "mR17pTws313c"
      },
      "outputs": [],
      "source": [
        "# ----------------------------------------------------------------------\n",
        "# Importar librerías\n",
        "# ----------------------------------------------------------------------\n",
        "\n",
        "# Web scraping\n",
        "import requests\n",
        "from bs4 import BeautifulSoup\n",
        "\n",
        "# Análisis y manipulación de datos\n",
        "import pandas as pd\n",
        "import numpy as np\n",
        "\n",
        "# Machine Learning\n",
        "from sklearn.model_selection import train_test_split, cross_val_score, KFold\n",
        "from sklearn.linear_model import LinearRegression\n",
        "from sklearn.preprocessing import PolynomialFeatures, StandardScaler\n",
        "from sklearn.tree import DecisionTreeRegressor\n",
        "from sklearn.ensemble import RandomForestRegressor, GradientBoostingRegressor\n",
        "from sklearn.svm import SVR\n",
        "from sklearn.neighbors import KNeighborsRegressor\n",
        "from sklearn.pipeline import Pipeline\n",
        "from sklearn.impute import SimpleImputer\n",
        "from sklearn.metrics import mean_squared_error\n",
        "from sklearn.model_selection import LeaveOneOut\n",
        "\n",
        "# Visualización\n",
        "import matplotlib.pyplot as plt\n",
        "import seaborn as sns\n",
        "\n",
        "# Otros\n",
        "import re"
      ]
    },
    {
      "cell_type": "code",
      "execution_count": 3,
      "metadata": {
        "id": "dfMd2Wn_6gdb"
      },
      "outputs": [],
      "source": [
        "# ----------------------------------------------------------------------\n",
        "# Adquisición de datos\n",
        "# ----------------------------------------------------------------------\n",
        "base_url = \"https://ignaciomsarmiento.github.io/GEIH2018_sample/pages/geih_page_{}.html\"\n",
        "all_data = []\n",
        "\n",
        "# Iterar sobre las 10 páginas\n",
        "for i in range(1, 11):\n",
        "    url = base_url.format(i)\n",
        "    try:\n",
        "        # Realizar la solicitud HTTP\n",
        "        response = requests.get(url)\n",
        "        response.raise_for_status()  # Levantar error si la solicitud falla\n",
        "\n",
        "        # Parsear el contenido HTML\n",
        "        soup = BeautifulSoup(response.content, 'html.parser')\n",
        "\n",
        "        # Extraer la tabla de la página\n",
        "        table = soup.find('table')\n",
        "        if table:\n",
        "            # Extraer encabezados\n",
        "            headers = [th.text.strip() for th in table.find_all('th')]\n",
        "\n",
        "            # Extraer filas\n",
        "            rows = [\n",
        "                [cell.text.strip() for cell in row.find_all('td')]\n",
        "                for row in table.find_all('tr')[1:]  # Excluir encabezado\n",
        "            ]\n",
        "\n",
        "            # Crear un DataFrame para la página actual\n",
        "            if rows:  # Solo agregar si hay datos\n",
        "                df = pd.DataFrame(rows, columns=headers)\n",
        "                all_data.append(df)\n",
        "                print(f\"Página {i} procesada correctamente.\")\n",
        "            else:\n",
        "                print(f\"Página {i}: No se encontraron filas en la tabla.\")\n",
        "        else:\n",
        "            print(f\"Página {i}: No se encontró tabla.\")\n",
        "    except Exception as e:\n",
        "        print(f\"Error procesando la página {i}: {e}\")\n",
        "\n",
        "# Concatenar todos los DataFrames en uno solo\n",
        "if all_data:  # Solo continuar si hay datos\n",
        "    final_data = pd.concat(all_data, ignore_index=True)\n",
        "\n",
        "    # Guardar en un archivo CSV\n",
        "    final_data.to_csv(\"geih_2018_bogota.csv\", index=False, encoding='utf-8')\n",
        "    print(\"Datos guardados en 'geih_2018_bogota.csv'.\")\n",
        "else:\n",
        "    print(\"No se encontraron datos para guardar.\")"
      ]
    },
    {
      "cell_type": "markdown",
      "metadata": {
        "id": "obMFLXTa648o"
      },
      "source": [
        "## 2. Carga de datos y filtrado"
      ]
    },
    {
      "cell_type": "code",
      "execution_count": 4,
      "metadata": {
        "colab": {
          "base_uri": "https://localhost:8080/"
        },
        "id": "cI-ZLtmW6sAR",
        "outputId": "5af9e235-643f-4daf-be77-24e2f6d3c0dc"
      },
      "outputs": [
        {
          "output_type": "stream",
          "name": "stdout",
          "text": [
            "\n",
            "Valores faltantes antes de eliminar:\n",
            "age    0\n",
            "ocu    0\n",
            "dtype: int64\n",
            "\n",
            "Número de filas después del filtrado: 16397\n"
          ]
        }
      ],
      "source": [
        "# ----------------------------------------------------------------------\n",
        "# Cargar y filtrar datos\n",
        "# ----------------------------------------------------------------------\n",
        "\n",
        "# Cargar datos desde el archivo CSV\n",
        "final_data = pd.read_csv(\"geih_2018_bogota.csv\")\n",
        "\n",
        "# Convertir columnas relevantes a numérico y manejar errores\n",
        "final_data['age'] = pd.to_numeric(final_data['age'], errors='coerce')\n",
        "final_data['ocu'] = pd.to_numeric(final_data['ocu'], errors='coerce')\n",
        "\n",
        "# Resumen inicial de valores faltantes (opcional, para depuración)\n",
        "print(\"\\nValores faltantes antes de eliminar:\")\n",
        "print(final_data[['age', 'ocu']].isnull().sum())\n",
        "\n",
        "# Eliminar valores faltantes en las columnas necesarias\n",
        "final_data = final_data.dropna(subset=['age', 'ocu'])\n",
        "\n",
        "# Filtrar personas mayores de 18 años y ocupadas\n",
        "filtered_data = final_data[\n",
        "    (final_data['age'] > 18) & (final_data['ocu'] == 1)\n",
        "].copy()\n",
        "\n",
        "# Mostrar el número de filas restantes\n",
        "print(f\"\\nNúmero de filas después del filtrado: {len(filtered_data)}\")"
      ]
    },
    {
      "cell_type": "markdown",
      "metadata": {
        "id": "i_H-JalR9cAM"
      },
      "source": [
        "## 3. Limpiar datos y completar"
      ]
    },
    {
      "cell_type": "code",
      "execution_count": 5,
      "metadata": {
        "id": "et7D5bLd9arg"
      },
      "outputs": [],
      "source": [
        "# ----------------------------------------------------------------------\n",
        "# Manejar datos faltantes y ajustar salario mensual\n",
        "# ----------------------------------------------------------------------\n",
        "\n",
        "# Convertir 'y_salary_m' (salario mensual) a numérico\n",
        "filtered_data['y_salary_m'] = pd.to_numeric(filtered_data['y_salary_m'], errors='coerce')\n",
        "\n",
        "# Inicializar y_salary_m_c\n",
        "y_salary_m_c = filtered_data['y_salary_m'].copy()\n",
        "\n",
        "# Operaciones de ajuste del salario\n",
        "operaciones_resta = [\n",
        "    ('P6510', 'P6510s2'),\n",
        "    ('P6580', 'P6580s2'),\n",
        "    ('P6585s1', 'P6585s1a1'),\n",
        "    ('P6585s2', 'P6585s2a1'),\n",
        "    ('P6585s3', 'P6585s3a1'),\n",
        "    ('P6585s4', 'P6585s4a1')\n",
        "]\n",
        "\n",
        "operaciones_suma = [\n",
        "    ('P6590', 'P6590s1'),\n",
        "    ('P6600', 'P6600s1')\n",
        "]\n",
        "\n",
        "# Aplicar operaciones de resta\n",
        "for col_flag, col_value in operaciones_resta:\n",
        "    if col_flag in filtered_data.columns and col_value in filtered_data.columns:\n",
        "        y_salary_m_c.loc[\n",
        "            (filtered_data[col_flag] == 1) & (filtered_data[col_value].notnull())\n",
        "        ] -= filtered_data[col_value]\n",
        "\n",
        "# Aplicar operaciones de suma\n",
        "for col_flag, col_value in operaciones_suma:\n",
        "    if col_flag in filtered_data.columns and col_value in filtered_data.columns:\n",
        "        y_salary_m_c.loc[filtered_data[col_flag] == 1] += filtered_data[col_value]\n",
        "\n",
        "# Imputar salario nulo o cero con la mediana\n",
        "filtered_data['y_salary_m_c'] = SimpleImputer(strategy='median').fit_transform(\n",
        "    y_salary_m_c.values.reshape(-1, 1)\n",
        ")\n",
        "\n",
        "# Identificar columnas numéricas y categóricas\n",
        "numeric_columns = filtered_data.select_dtypes(include=['number']).columns\n",
        "categorical_columns = filtered_data.select_dtypes(exclude=['number']).columns\n",
        "\n",
        "# Eliminar columnas numéricas completamente nulas antes de imputar\n",
        "numeric_data = filtered_data[numeric_columns].dropna(axis=1, how='all')\n",
        "\n",
        "# Imputación de valores faltantes en columnas numéricas (mediana)\n",
        "numeric_data_imputed = pd.DataFrame(\n",
        "    SimpleImputer(strategy='median').fit_transform(numeric_data),\n",
        "    columns=numeric_data.columns\n",
        ")\n",
        "\n",
        "# Imputación de valores faltantes en columnas categóricas (moda)\n",
        "categorical_data_imputed = pd.DataFrame(\n",
        "    SimpleImputer(strategy='most_frequent').fit_transform(filtered_data[categorical_columns]),\n",
        "    columns=categorical_columns\n",
        ")\n",
        "\n",
        "# Reunir datos numéricos y categóricos imputados\n",
        "filtered_data_cleaned = pd.concat([numeric_data_imputed, categorical_data_imputed], axis=1)"
      ]
    },
    {
      "cell_type": "markdown",
      "metadata": {
        "id": "M_5cKc6A_g2o"
      },
      "source": [
        "## 4. Precedir salarios"
      ]
    },
    {
      "cell_type": "code",
      "execution_count": 6,
      "metadata": {
        "id": "A6rvoORX_sFm",
        "colab": {
          "base_uri": "https://localhost:8080/"
        },
        "outputId": "238a83bb-424b-4d6b-be9f-4d0ba3671be6"
      },
      "outputs": [
        {
          "output_type": "stream",
          "name": "stdout",
          "text": [
            "Dimensiones de X después del One-Hot Encoding: (16397, 165)\n",
            "Dimensiones de la muestra: X=(164, 165), y=(164,)\n"
          ]
        }
      ],
      "source": [
        "# ----------------------------------------------------------------------\n",
        "# Modelado y evaluación\n",
        "# ----------------------------------------------------------------------\n",
        "\n",
        "# Convertir las variables categóricas en variables dummy (one-hot encoding)\n",
        "X = filtered_data_cleaned.drop(columns=['y_salary_m'])  # 'y_salary_m' es el objetivo\n",
        "y = filtered_data_cleaned['y_salary_m']\n",
        "\n",
        "# Aplicar One-Hot Encoding antes del muestreo\n",
        "X = pd.get_dummies(X, drop_first=True)\n",
        "\n",
        "# Validar las dimensiones después del encoding\n",
        "print(f\"Dimensiones de X después del One-Hot Encoding: {X.shape}\")\n",
        "\n",
        "# Seleccionar una muestra del 1% para procesamiento rápido\n",
        "data_sample = X.join(y).sample(frac=0.01, random_state=123)\n",
        "X_sample = data_sample.drop(columns=['y_salary_m'])\n",
        "y_sample = data_sample['y_salary_m']\n",
        "\n",
        "# Confirmar el tamaño de la muestra\n",
        "print(f\"Dimensiones de la muestra: X={X_sample.shape}, y={y_sample.shape}\")"
      ]
    },
    {
      "cell_type": "code",
      "source": [
        "# ----------------------------------------------------------------------\n",
        "# Modelado y ajuste de modelos incrementales\n",
        "# ----------------------------------------------------------------------\n",
        "\n",
        "# Lista de variables a considerar\n",
        "variables = ['maxEducLevel', 'age', 'sizeFirm', 'estrato1', 'sex', 'formal',\n",
        "             'cuentaPropia', 'college', 'p6500', 'informal', \"microEmpresa\", \"depto\", \"relab\"]\n",
        "\n",
        "# Crear un diccionario para almacenar los modelos y las variables asociadas\n",
        "models = {}\n",
        "for i in range(1, len(variables) + 1):\n",
        "    nombre_modelo = f\"modelo{i}\"\n",
        "    variables_modelo = variables[:i]  # Incrementar el conjunto de variables\n",
        "    models[nombre_modelo] = {\n",
        "        'pipeline': Pipeline([\n",
        "            ('poly', PolynomialFeatures(degree=3, include_bias=False)),\n",
        "            ('reg', LinearRegression())\n",
        "        ]),\n",
        "        'variables': variables_modelo  # Guardar las variables usadas en este modelo\n",
        "    }\n",
        "\n",
        "# Dividir los datos en conjuntos de entrenamiento y prueba\n",
        "X_train, X_test, y_train, y_test = train_test_split(X, y, test_size=0.3, random_state=123)\n",
        "\n",
        "# Ajustar cada modelo con los datos de entrenamiento\n",
        "for nombre_modelo, model_info in models.items():\n",
        "    # Seleccionar las columnas relevantes para el modelo actual\n",
        "    columnas_modelo = model_info['variables']\n",
        "    pipeline = model_info['pipeline']\n",
        "\n",
        "    # Ajustar el modelo\n",
        "    try:\n",
        "        pipeline.fit(X_train[columnas_modelo], y_train)\n",
        "        print(f\"Modelo {nombre_modelo} ajustado con las variables: {columnas_modelo}\")\n",
        "    except Exception as e:\n",
        "        print(f\"Error al ajustar el modelo {nombre_modelo}: {e}\")"
      ],
      "metadata": {
        "colab": {
          "base_uri": "https://localhost:8080/"
        },
        "id": "63iQIq-IGT-5",
        "outputId": "37f2590e-c17a-49d2-ba72-198b9baaf46f"
      },
      "execution_count": 7,
      "outputs": [
        {
          "output_type": "stream",
          "name": "stdout",
          "text": [
            "Modelo modelo1 ajustado con las variables: ['maxEducLevel']\n",
            "Modelo modelo2 ajustado con las variables: ['maxEducLevel', 'age']\n",
            "Modelo modelo3 ajustado con las variables: ['maxEducLevel', 'age', 'sizeFirm']\n",
            "Modelo modelo4 ajustado con las variables: ['maxEducLevel', 'age', 'sizeFirm', 'estrato1']\n",
            "Modelo modelo5 ajustado con las variables: ['maxEducLevel', 'age', 'sizeFirm', 'estrato1', 'sex']\n",
            "Modelo modelo6 ajustado con las variables: ['maxEducLevel', 'age', 'sizeFirm', 'estrato1', 'sex', 'formal']\n",
            "Modelo modelo7 ajustado con las variables: ['maxEducLevel', 'age', 'sizeFirm', 'estrato1', 'sex', 'formal', 'cuentaPropia']\n",
            "Modelo modelo8 ajustado con las variables: ['maxEducLevel', 'age', 'sizeFirm', 'estrato1', 'sex', 'formal', 'cuentaPropia', 'college']\n",
            "Modelo modelo9 ajustado con las variables: ['maxEducLevel', 'age', 'sizeFirm', 'estrato1', 'sex', 'formal', 'cuentaPropia', 'college', 'p6500']\n",
            "Modelo modelo10 ajustado con las variables: ['maxEducLevel', 'age', 'sizeFirm', 'estrato1', 'sex', 'formal', 'cuentaPropia', 'college', 'p6500', 'informal']\n",
            "Modelo modelo11 ajustado con las variables: ['maxEducLevel', 'age', 'sizeFirm', 'estrato1', 'sex', 'formal', 'cuentaPropia', 'college', 'p6500', 'informal', 'microEmpresa']\n",
            "Modelo modelo12 ajustado con las variables: ['maxEducLevel', 'age', 'sizeFirm', 'estrato1', 'sex', 'formal', 'cuentaPropia', 'college', 'p6500', 'informal', 'microEmpresa', 'depto']\n",
            "Modelo modelo13 ajustado con las variables: ['maxEducLevel', 'age', 'sizeFirm', 'estrato1', 'sex', 'formal', 'cuentaPropia', 'college', 'p6500', 'informal', 'microEmpresa', 'depto', 'relab']\n"
          ]
        }
      ]
    },
    {
      "cell_type": "markdown",
      "metadata": {
        "id": "54tUpfro_uiE"
      },
      "source": [
        "## 5. Evaluacion predictiva"
      ]
    },
    {
      "cell_type": "code",
      "source": [
        "# ----------------------------------------------------------------------\n",
        "# Lista de variables y modelos incrementales\n",
        "# ----------------------------------------------------------------------\n",
        "\n",
        "# Lista de variables a considerar\n",
        "variables = ['maxEducLevel', 'age', 'sizeFirm', 'estrato1', 'sex', 'formal',\n",
        "             'cuentaPropia', 'college', 'p6500', 'informal', \"microEmpresa\", \"depto\", \"relab\"]\n",
        "\n",
        "# Crear un diccionario para almacenar los modelos y sus variables\n",
        "models = {}\n",
        "for i in range(1, len(variables) + 1):\n",
        "    nombre_modelo = f\"modelo{i}\"\n",
        "    variables_modelo = variables[:i]  # Incrementar el conjunto de variables\n",
        "    models[nombre_modelo] = {\n",
        "        'pipeline': Pipeline([\n",
        "            ('poly', PolynomialFeatures(degree=3, include_bias=False)),\n",
        "            ('reg', LinearRegression())\n",
        "        ]),\n",
        "        'variables': variables_modelo  # Guardar las variables asociadas\n",
        "    }\n",
        "\n",
        "# Dividir los datos en conjuntos de entrenamiento y prueba\n",
        "X_train, X_test, y_train, y_test = train_test_split(X, y, test_size=0.3, random_state=123)\n",
        "\n",
        "# ----------------------------------------------------------------------\n",
        "# Función para evaluar modelos\n",
        "# ----------------------------------------------------------------------\n",
        "def evaluar_modelos(models, X_train, X_test, y_train, y_test):\n",
        "    resultados = []\n",
        "    for nombre_modelo, model_info in models.items():\n",
        "        pipeline = model_info['pipeline']\n",
        "        columnas_modelo = model_info['variables']\n",
        "\n",
        "        try:\n",
        "            # Ajustar el modelo\n",
        "            pipeline.fit(X_train[columnas_modelo], y_train)\n",
        "            # Realizar predicciones\n",
        "            y_pred = pipeline.predict(X_test[columnas_modelo])\n",
        "            # Calcular RMSE\n",
        "            rmse = np.sqrt(mean_squared_error(y_test, y_pred))\n",
        "            resultados.append({'Modelo': nombre_modelo, 'Variables': columnas_modelo, 'RMSE': rmse})\n",
        "            print(f\"{nombre_modelo} ajustado. RMSE: {rmse:.2f}\")\n",
        "        except Exception as e:\n",
        "            print(f\"Error con el modelo {nombre_modelo}: {e}\")\n",
        "    return pd.DataFrame(resultados)\n",
        "\n",
        "# Evaluar los modelos\n",
        "results_df = evaluar_modelos(models, X_train, X_test, y_train, y_test)\n",
        "\n",
        "# ----------------------------------------------------------------------\n",
        "# Visualización y análisis de resultados\n",
        "# ----------------------------------------------------------------------\n",
        "\n",
        "# Mostrar resultados ordenados por RMSE\n",
        "results_df = results_df.sort_values(by='RMSE')\n",
        "print(\"\\nResultados de RMSE para cada modelo:\")\n",
        "print(results_df[['Modelo', 'RMSE']])\n",
        "\n",
        "# Visualización comparativa del RMSE\n",
        "plt.figure(figsize=(10, 6))\n",
        "sns.barplot(x='RMSE', y='Modelo', data=results_df, palette=\"viridis\")\n",
        "plt.title('Comparación de RMSE entre Modelos')\n",
        "plt.xlabel('RMSE')\n",
        "plt.ylabel('Modelos')\n",
        "plt.show()\n",
        "\n",
        "# Mejor modelo y análisis de errores\n",
        "best_model_name = results_df.iloc[0]['Modelo']\n",
        "best_model_info = models[best_model_name]\n",
        "best_pipeline = best_model_info['pipeline']\n",
        "best_columns = best_model_info['variables']\n",
        "\n",
        "# Calcular errores de predicción para el mejor modelo\n",
        "errors = y_test - best_pipeline.predict(X_test[best_columns])\n",
        "\n",
        "# Visualización de errores\n",
        "sns.histplot(errors, kde=True, bins=30)\n",
        "plt.title('Distribución de Errores de Predicción')\n",
        "plt.xlabel('Error')\n",
        "plt.ylabel('Frecuencia')\n",
        "plt.show()"
      ],
      "metadata": {
        "colab": {
          "base_uri": "https://localhost:8080/",
          "height": 1000
        },
        "id": "QfGUQupgNCDO",
        "outputId": "71ffcf92-8e06-4b16-83b1-f8d32bb98af6"
      },
      "execution_count": 8,
      "outputs": [
        {
          "output_type": "stream",
          "name": "stdout",
          "text": [
            "modelo1 ajustado. RMSE: 1533803.21\n",
            "modelo2 ajustado. RMSE: 1504771.77\n",
            "modelo3 ajustado. RMSE: 1418039.34\n",
            "modelo4 ajustado. RMSE: 1310586.27\n",
            "modelo5 ajustado. RMSE: 1304122.11\n",
            "modelo6 ajustado. RMSE: 1301236.67\n",
            "modelo7 ajustado. RMSE: 1264993.48\n",
            "modelo8 ajustado. RMSE: 1260595.78\n",
            "modelo9 ajustado. RMSE: 161812.23\n",
            "modelo10 ajustado. RMSE: 175593.52\n",
            "modelo11 ajustado. RMSE: 198927.54\n",
            "modelo12 ajustado. RMSE: 160511.68\n",
            "modelo13 ajustado. RMSE: 155288.09\n",
            "\n",
            "Resultados de RMSE para cada modelo:\n",
            "      Modelo          RMSE\n",
            "12  modelo13  1.552881e+05\n",
            "11  modelo12  1.605117e+05\n",
            "8    modelo9  1.618122e+05\n",
            "9   modelo10  1.755935e+05\n",
            "10  modelo11  1.989275e+05\n",
            "7    modelo8  1.260596e+06\n",
            "6    modelo7  1.264993e+06\n",
            "5    modelo6  1.301237e+06\n",
            "4    modelo5  1.304122e+06\n",
            "3    modelo4  1.310586e+06\n",
            "2    modelo3  1.418039e+06\n",
            "1    modelo2  1.504772e+06\n",
            "0    modelo1  1.533803e+06\n"
          ]
        },
        {
          "output_type": "stream",
          "name": "stderr",
          "text": [
            "<ipython-input-8-bc218783b898>:61: FutureWarning: \n",
            "\n",
            "Passing `palette` without assigning `hue` is deprecated and will be removed in v0.14.0. Assign the `y` variable to `hue` and set `legend=False` for the same effect.\n",
            "\n",
            "  sns.barplot(x='RMSE', y='Modelo', data=results_df, palette=\"viridis\")\n"
          ]
        },
        {
          "output_type": "display_data",
          "data": {
            "text/plain": [
              "<Figure size 1000x600 with 1 Axes>"
            ],
            "image/png": "[encoded data removed]"
          },
          "metadata": {}
        },
        {
          "output_type": "display_data",
          "data": {
            "text/plain": [
              "<Figure size 640x480 with 1 Axes>"
            ],
            "image/png": "[encoded data removed]"
          },
          "metadata": {}
        }
      ]
    },
    {
      "cell_type": "markdown",
      "metadata": {
        "id": "33thSP4D_tzB"
      },
      "source": [
        "## 6. Validacion cruzada"
      ]
    },
    {
      "cell_type": "code",
      "source": [
        "# ----------------------------------------------------------------------\n",
        "# LOOCV para los dos mejores modelos\n",
        "# ----------------------------------------------------------------------\n",
        "\n",
        "# Seleccionar los dos mejores modelos según RMSE en validación cruzada K-Fold\n",
        "mejores_modelos = results_df.head(2)['Modelo'].tolist()  # Ordenados previamente por RMSE\n",
        "\n",
        "# Diccionario para almacenar resultados de LOOCV\n",
        "loocv_results = {}\n",
        "\n",
        "# Realizar LOOCV para los dos mejores modelos\n",
        "for nombre_modelo in mejores_modelos:\n",
        "    # Obtener el pipeline y las variables del modelo\n",
        "    model_info = models[nombre_modelo]\n",
        "    pipeline = model_info['pipeline']\n",
        "    variables = model_info['variables']\n",
        "\n",
        "    # Inicializar LOOCV\n",
        "    loo = LeaveOneOut()\n",
        "    y_pred_loocv = []\n",
        "\n",
        "    print(f\"\\nRealizando LOOCV para {nombre_modelo}...\")\n",
        "\n",
        "    # LOOCV: Iterar sobre cada observación como conjunto de prueba\n",
        "    for train_index, test_index in loo.split(X_train):\n",
        "        # Crear los conjuntos de entrenamiento y prueba\n",
        "        X_train_loo, X_test_loo = X_train.iloc[train_index][variables], X_train.iloc[test_index][variables]\n",
        "        y_train_loo, y_test_loo = y_train.iloc[train_index], y_train.iloc[test_index]\n",
        "\n",
        "        # Entrenar el modelo y predecir\n",
        "        pipeline.fit(X_train_loo, y_train_loo)\n",
        "        y_pred_loocv.append(pipeline.predict(X_test_loo)[0])\n",
        "\n",
        "    # Calcular RMSE de LOOCV\n",
        "    rmse_loocv = np.sqrt(mean_squared_error(y_train, y_pred_loocv))\n",
        "    loocv_results[nombre_modelo] = rmse_loocv\n",
        "    print(f\"{nombre_modelo}: RMSE (LOOCV) = {rmse_loocv:.2f}\")\n",
        "\n",
        "# Convertir resultados de LOOCV en un DataFrame\n",
        "loocv_df = pd.DataFrame(loocv_results.items(), columns=['Modelo', 'RMSE (LOOCV)'])\n",
        "\n",
        "# ----------------------------------------------------------------------\n",
        "# Comparación de resultados con el conjunto de validación\n",
        "# ----------------------------------------------------------------------\n",
        "\n",
        "# Crear un DataFrame para comparar resultados\n",
        "comparacion_df = results_df[results_df['Modelo'].isin(mejores_modelos)][['Modelo', 'RMSE']].merge(\n",
        "    loocv_df, on='Modelo', how='inner'\n",
        ")\n",
        "comparacion_df.rename(columns={'RMSE': 'RMSE (Validation Set)'}, inplace=True)\n",
        "\n",
        "# Mostrar resultados\n",
        "print(\"\\nComparación de RMSE entre LOOCV y Validation Set:\")\n",
        "print(comparacion_df)\n",
        "\n",
        "# ----------------------------------------------------------------------\n",
        "# Visualización de la comparación\n",
        "# ----------------------------------------------------------------------\n",
        "comparacion_df_melted = comparacion_df.melt(id_vars='Modelo', value_vars=['RMSE (Validation Set)', 'RMSE (LOOCV)'],\n",
        "                                            var_name='Método', value_name='RMSE')\n",
        "\n",
        "plt.figure(figsize=(10, 6))\n",
        "sns.barplot(x='Modelo', y='RMSE', hue='Método', data=comparacion_df_melted, palette=\"viridis\")\n",
        "plt.title('Comparación de RMSE entre Validation Set y LOOCV')\n",
        "plt.xlabel('Modelo')\n",
        "plt.ylabel('RMSE')\n",
        "plt.legend(title='Método')\n",
        "plt.show()"
      ],
      "metadata": {
        "id": "uSo5t8NTmBrF",
        "colab": {
          "base_uri": "https://localhost:8080/"
        },
        "outputId": "69557a66-a3d6-41a8-9731-a632bdbbbfeb"
      },
      "execution_count": null,
      "outputs": [
        {
          "metadata": {
            "tags": null
          },
          "name": "stdout",
          "output_type": "stream",
          "text": [
            "\n",
            "Realizando LOOCV para modelo13...\n"
          ]
        }
      ]
    },
    {
      "cell_type": "code",
      "source": [
        "# ----------------------------------------------------------------------\n",
        "# Función para realizar LOOCV\n",
        "# ----------------------------------------------------------------------\n",
        "def realizar_loocv(model, X, y):\n",
        "    \"\"\"\n",
        "    Realiza Leave-One-Out Cross-Validation (LOOCV) para un modelo dado.\n",
        "    \"\"\"\n",
        "    loo = LeaveOneOut()\n",
        "    y_pred_loocv = []\n",
        "\n",
        "    # Iterar sobre cada observación como conjunto de prueba\n",
        "    for train_index, test_index in loo.split(X):\n",
        "        X_train_loo, X_test_loo = X.iloc[train_index], X.iloc[test_index]\n",
        "        y_train_loo, y_test_loo = y.iloc[train_index], y.iloc[test_index]\n",
        "\n",
        "        # Ajustar el modelo y predecir\n",
        "        model.fit(X_train_loo, y_train_loo)\n",
        "        y_pred_loocv.append(model.predict(X_test_loo)[0])  # Obtener la predicción individual\n",
        "\n",
        "    # Calcular RMSE para LOOCV\n",
        "    rmse_loocv = np.sqrt(mean_squared_error(y, y_pred_loocv))\n",
        "    return rmse_loocv\n",
        "\n",
        "# ----------------------------------------------------------------------\n",
        "# Evaluar los dos mejores modelos con LOOCV\n",
        "# ----------------------------------------------------------------------\n",
        "\n",
        "# Seleccionar los dos mejores modelos\n",
        "mejores_modelos = results_df.head(2)['Modelo'].tolist()\n",
        "\n",
        "# Diccionario para almacenar resultados de LOOCV\n",
        "loocv_results = {}\n",
        "\n",
        "for nombre_modelo in mejores_modelos:\n",
        "    model_info = models[nombre_modelo]\n",
        "    pipeline = model_info['pipeline']\n",
        "    variables = model_info['variables']  # Variables relevantes del modelo\n",
        "\n",
        "    # Filtrar datos según las variables del modelo\n",
        "    X_data = X[variables]\n",
        "\n",
        "    try:\n",
        "        print(f\"Realizando LOOCV para {nombre_modelo}...\")\n",
        "        rmse_loocv = realizar_loocv(pipeline, X_data, y)\n",
        "        loocv_results[nombre_modelo] = rmse_loocv\n",
        "        print(f\"{nombre_modelo}: RMSE (LOOCV) = {rmse_loocv:.2f}\")\n",
        "    except Exception as e:\n",
        "        print(f\"Error con el modelo {nombre_modelo}: {e}\")\n",
        "\n",
        "# Convertir resultados de LOOCV en un DataFrame\n",
        "loocv_df = pd.DataFrame(loocv_results.items(), columns=['Modelo', 'RMSE (LOOCV)'])\n",
        "\n",
        "# ----------------------------------------------------------------------\n",
        "# Combinar y comparar resultados\n",
        "# ----------------------------------------------------------------------\n",
        "\n",
        "# Unir los resultados de LOOCV con los resultados previos\n",
        "resultados_combinados = pd.merge(results_df, loocv_df, on='Modelo', how='left')\n",
        "\n",
        "# Mostrar los resultados combinados\n",
        "print(\"\\nResultados de RMSE (Validación y LOOCV):\")\n",
        "print(resultados_combinados)\n",
        "\n",
        "# ----------------------------------------------------------------------\n",
        "# Visualización\n",
        "# ----------------------------------------------------------------------\n",
        "resultados_combinados_melted = resultados_combinados.melt(id_vars='Modelo',\n",
        "                                                          value_vars=['RMSE', 'RMSE (LOOCV)'],\n",
        "                                                          var_name='Método', value_name='RMSE')\n",
        "\n",
        "plt.figure(figsize=(10, 6))\n",
        "sns.barplot(x='Modelo', y='RMSE', hue='Método', data=resultados_combinados_melted, palette=\"viridis\")\n",
        "plt.title('Comparación de RMSE entre Validación y LOOCV')\n",
        "plt.xlabel('Modelo')\n",
        "plt.ylabel('RMSE')\n",
        "plt.legend(title='Método')\n",
        "plt.show()"
      ],
      "metadata": {
        "colab": {
          "base_uri": "https://localhost:8080/"
        },
        "id": "bRHmQxaDhnQ3",
        "outputId": "ffff3d40-d0d4-4d19-9c10-92eedde9ba97"
      },
      "execution_count": null,
      "outputs": [
        {
          "output_type": "stream",
          "name": "stdout",
          "text": [
            "\n",
            "Resultados de RMSE (Validación y LOOCV):\n",
            "     Modelo           RMSE  RMSE (LOOCV)\n",
            "0  modelo10  924012.865214  7.602346e+05\n",
            "1   modelo1  958472.832280  1.096995e+06\n",
            "2   modelo2  958472.832280           NaN\n",
            "3   modelo3  958472.832280           NaN\n",
            "4   modelo4  958472.832280           NaN\n",
            "5   modelo5  958472.832280           NaN\n",
            "6   modelo6  958472.832280           NaN\n",
            "7   modelo7  958472.832280           NaN\n",
            "8   modelo8  958472.832280           NaN\n",
            "9   modelo9  958472.832280           NaN\n"
          ]
        }
      ]
    },
    {
      "cell_type": "markdown",
      "source": [
        "## Resultados\n",
        "\n"
      ],
      "metadata": {
        "id": "_E5rS0xPbDzW"
      }
    }
  ],
  "metadata": {
    "colab": {
      "provenance": []
    },
    "kernelspec": {
      "display_name": "Python 3",
      "name": "python3"
    },
    "language_info": {
      "name": "python"
    }
  },
  "nbformat": 4,
  "nbformat_minor": 0
}