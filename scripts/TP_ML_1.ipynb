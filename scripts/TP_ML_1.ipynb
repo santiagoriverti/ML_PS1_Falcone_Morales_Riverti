{
  "cells": [
    {
      "cell_type": "markdown",
      "source": [
        "# ML - Problem Set 1: Predicting Income"
      ],
      "metadata": {
        "id": "IKYQt3djuFTA"
      }
    },
    {
      "cell_type": "code",
      "source": [
        "# ----------------------------------------------------------------------\n",
        "# Instala librerias\n",
        "# ----------------------------------------------------------------------"
      ],
      "metadata": {
        "id": "o6Z_ly1O3q0F"
      },
      "execution_count": null,
      "outputs": []
    },
    {
      "cell_type": "code",
      "execution_count": null,
      "metadata": {
        "trusted": true,
        "id": "qReZy_hQ3RJG"
      },
      "outputs": [],
      "source": [
        "# ----------------------------------------------------------------------\n",
        "# Importar librerias\n",
        "# ----------------------------------------------------------------------\n",
        "import requests\n",
        "from bs4 import BeautifulSoup\n",
        "import pandas as pd\n",
        "import numpy as np\n",
        "from sklearn.model_selection import train_test_split, cross_val_score, KFold\n",
        "from sklearn.linear_model import LinearRegression\n",
        "from sklearn.preprocessing import PolynomialFeatures\n",
        "from sklearn.tree import DecisionTreeRegressor\n",
        "from sklearn.ensemble import RandomForestRegressor, GradientBoostingRegressor\n",
        "from sklearn.metrics import mean_squared_error\n",
        "import seaborn as sns\n",
        "import matplotlib.pyplot as plt\n",
        "import gc"
      ]
    },
    {
      "cell_type": "markdown",
      "source": [
        "## 2. Data"
      ],
      "metadata": {
        "id": "H_fOuHjKuNe5"
      }
    },
    {
      "cell_type": "code",
      "source": [
        "# ----------------------------------------------------------------------\n",
        "# Adquisición de datos\n",
        "# ----------------------------------------------------------------------\n",
        "base_url = \"https://ignaciomsarmiento.github.io/GEIH2018_sample/pages/geih_page_{}.html\"\n",
        "all_data = []\n",
        "\n",
        "for i in range(1, 11):  # Iterar sobre las 10 páginas\n",
        "    url = base_url.format(i)\n",
        "    response = requests.get(url)\n",
        "    soup = BeautifulSoup(response.content, 'html.parser')\n",
        "\n",
        "    # Extraer la tabla de la página\n",
        "    table = soup.find('table')\n",
        "    if table:\n",
        "        # Encabezados de la tabla\n",
        "        headers = [th.text.strip() for th in table.find_all('th')]\n",
        "\n",
        "        # Filas de la tabla\n",
        "        rows = [\n",
        "            [cell.text.strip() for cell in row.find_all('td')]\n",
        "            for row in table.find_all('tr')[1:]  # Excluir encabezado\n",
        "        ]\n",
        "\n",
        "        # Crear un DataFrame para la página actual\n",
        "        df = pd.DataFrame(rows, columns=headers)\n",
        "        all_data.append(df)\n",
        "\n",
        "# Concatenar todos los DataFrames en uno solo\n",
        "final_data = pd.concat(all_data, ignore_index=True)\n",
        "\n",
        "# Guardar en un archivo CSV\n",
        "final_data.to_csv(\"geih_2018_bogota.csv\", index=False)\n",
        "\n",
        "# Liberar memoria de los datos originales\n",
        "del all_data\n",
        "gc.collect()"
      ],
      "metadata": {
        "colab": {
          "base_uri": "https://localhost:8080/"
        },
        "id": "Ue4ByirhGvTH",
        "outputId": "2e890306-1041-4e9f-c51f-e7a6c8edddc5"
      },
      "execution_count": null,
      "outputs": [
        {
          "output_type": "execute_result",
          "data": {
            "text/plain": [
              "4032189"
            ]
          },
          "metadata": {},
          "execution_count": 2
        }
      ]
    },
    {
      "cell_type": "code",
      "source": [
        "# ----------------------------------------------------------------------\n",
        "# Limpieza de datos\n",
        "# ----------------------------------------------------------------------\n",
        "def clean_data(df):\n",
        "    df['y_salary_m'] = pd.to_numeric(df['y_salary_m'], errors='coerce')\n",
        "    filtered = df[\n",
        "        (df['age'].astype(float) > 18) &\n",
        "        (df['ocu'].astype(float) == 1) &\n",
        "        (df['y_salary_m'] > 0) &\n",
        "        df['y_salary_m'].notnull()\n",
        "    ]\n",
        "    filtered['hourly_wage'] = filtered['y_salary_m'].astype(float) / filtered['hoursWorkUsual'].astype(float)\n",
        "    filtered = filtered.dropna(subset=['hourly_wage', 'age', 'sex', 'maxEducLevel'])\n",
        "\n",
        "    # Reducir memoria en columnas numéricas\n",
        "    for col in filtered.select_dtypes(include=['float64', 'int64']).columns:\n",
        "        filtered[col] = pd.to_numeric(filtered[col], downcast='float')\n",
        "\n",
        "    # Seleccionar una muestra del 5% para reducir tamaño\n",
        "    filtered = filtered.sample(frac=0.05, random_state=123)\n",
        "\n",
        "    # Convertir variables categóricas\n",
        "    categorical_columns = filtered.select_dtypes(include=['object']).columns\n",
        "    return pd.get_dummies(filtered, columns=categorical_columns, drop_first=True)\n",
        "\n",
        "filtered_data = clean_data(final_data)\n",
        "\n",
        "# Liberar memoria innecesaria\n",
        "del final_data\n",
        "gc.collect()"
      ],
      "metadata": {
        "colab": {
          "base_uri": "https://localhost:8080/"
        },
        "id": "kVWqs2nAFTUl",
        "outputId": "9ed27f27-1aad-4d08-c3d9-47f690a883af"
      },
      "execution_count": null,
      "outputs": [
        {
          "output_type": "stream",
          "name": "stderr",
          "text": [
            "<ipython-input-3-018455131240>:12: SettingWithCopyWarning: \n",
            "A value is trying to be set on a copy of a slice from a DataFrame.\n",
            "Try using .loc[row_indexer,col_indexer] = value instead\n",
            "\n",
            "See the caveats in the documentation: https://pandas.pydata.org/pandas-docs/stable/user_guide/indexing.html#returning-a-view-versus-a-copy\n",
            "  filtered['hourly_wage'] = filtered['y_salary_m'].astype(float) / filtered['hoursWorkUsual'].astype(float)\n"
          ]
        },
        {
          "output_type": "execute_result",
          "data": {
            "text/plain": [
              "0"
            ]
          },
          "metadata": {},
          "execution_count": 3
        }
      ]
    },
    {
      "cell_type": "markdown",
      "source": [
        "## Predicting wages"
      ],
      "metadata": {
        "id": "qgswrlGtugBf"
      }
    },
    {
      "cell_type": "code",
      "source": [
        "# ----------------------------------------------------------------------\n",
        "# Modelado y evaluación\n",
        "# ----------------------------------------------------------------------\n",
        "X = filtered_data.drop(columns=['hourly_wage'])\n",
        "y = filtered_data['hourly_wage']\n",
        "\n",
        "# División de los datos\n",
        "X_train, X_test, y_train, y_test = train_test_split(X, y, test_size=0.3, random_state=123)\n",
        "\n",
        "# Modelos a evaluar\n",
        "models = {\n",
        "    \"Linear Regression\": LinearRegression(),\n",
        "    \"Polynomial Regression (degree=2)\": PolynomialFeatures(degree=2),\n",
        "    \"Decision Tree (max_depth=5)\": DecisionTreeRegressor(max_depth=5),\n",
        "    \"Random Forest (n_estimators=50)\": RandomForestRegressor(n_estimators=50, random_state=123),\n",
        "    \"Gradient Boosting\": GradientBoostingRegressor(random_state=123)\n",
        "}\n",
        "\n",
        "results = {}\n",
        "\n",
        "for name, model in models.items():\n",
        "    if \"Polynomial\" in name:\n",
        "        # Preprocesar las características para la regresión polinómica\n",
        "        poly = PolynomialFeatures(degree=2)\n",
        "        X_train_poly = poly.fit_transform(X_train)\n",
        "        X_test_poly = poly.transform(X_test)\n",
        "\n",
        "        # Ajustar modelo de regresión lineal con las características polinómicas\n",
        "        linear_poly = LinearRegression()\n",
        "        linear_poly.fit(X_train_poly, y_train)\n",
        "        y_pred = linear_poly.predict(X_test_poly)\n",
        "\n",
        "        # Calcular RMSE\n",
        "        rmse = np.sqrt(mean_squared_error(y_test, y_pred))\n",
        "        results[name] = rmse\n",
        "    else:\n",
        "        # Otros modelos\n",
        "        model.fit(X_train, y_train)\n",
        "        y_pred = model.predict(X_test)\n",
        "\n",
        "        # Calcular RMSE\n",
        "        rmse = np.sqrt(mean_squared_error(y_test, y_pred))\n",
        "        results[name] = rmse\n",
        "\n",
        "# Resultados\n",
        "print(\"\\nResultados de RMSE para cada modelo:\")\n",
        "for model, error in results.items():\n",
        "    print(f\"{model}: RMSE = {error:.2f}\")\n",
        "\n",
        "# Mejor modelo y errores\n",
        "best_model_name = min(results, key=results.get)\n",
        "print(f\"\\nMejor modelo: {best_model_name}\")\n",
        "\n",
        "# Calcular errores de predicción\n",
        "if \"Polynomial\" in best_model_name:\n",
        "    errors = y_test - linear_poly.predict(X_test_poly)\n",
        "else:\n",
        "    errors = y_test - models[best_model_name].predict(X_test)\n",
        "\n",
        "# Visualización de errores\n",
        "sns.histplot(errors, kde=True, bins=30)\n",
        "plt.title('Distribución de Errores de Predicción')\n",
        "plt.xlabel('Error')\n",
        "plt.ylabel('Frecuencia')\n",
        "plt.show()"
      ],
      "metadata": {
        "colab": {
          "base_uri": "https://localhost:8080/",
          "height": 211
        },
        "id": "oNndD1rjujcb",
        "outputId": "0f9b7486-929d-4b61-c0f7-79a6e8e5f0d7"
      },
      "execution_count": null,
      "outputs": [
        {
          "output_type": "error",
          "ename": "NameError",
          "evalue": "name 'filtered_data' is not defined",
          "traceback": [
            "\u001b[0;31m---------------------------------------------------------------------------\u001b[0m",
            "\u001b[0;31mNameError\u001b[0m                                 Traceback (most recent call last)",
            "\u001b[0;32m<ipython-input-1-79315eab970a>\u001b[0m in \u001b[0;36m<cell line: 4>\u001b[0;34m()\u001b[0m\n\u001b[1;32m      2\u001b[0m \u001b[0;31m# Modelado y evaluación\u001b[0m\u001b[0;34m\u001b[0m\u001b[0;34m\u001b[0m\u001b[0m\n\u001b[1;32m      3\u001b[0m \u001b[0;31m# ----------------------------------------------------------------------\u001b[0m\u001b[0;34m\u001b[0m\u001b[0;34m\u001b[0m\u001b[0m\n\u001b[0;32m----> 4\u001b[0;31m \u001b[0mX\u001b[0m \u001b[0;34m=\u001b[0m \u001b[0mfiltered_data\u001b[0m\u001b[0;34m.\u001b[0m\u001b[0mdrop\u001b[0m\u001b[0;34m(\u001b[0m\u001b[0mcolumns\u001b[0m\u001b[0;34m=\u001b[0m\u001b[0;34m[\u001b[0m\u001b[0;34m'hourly_wage'\u001b[0m\u001b[0;34m]\u001b[0m\u001b[0;34m)\u001b[0m\u001b[0;34m\u001b[0m\u001b[0;34m\u001b[0m\u001b[0m\n\u001b[0m\u001b[1;32m      5\u001b[0m \u001b[0my\u001b[0m \u001b[0;34m=\u001b[0m \u001b[0mfiltered_data\u001b[0m\u001b[0;34m[\u001b[0m\u001b[0;34m'hourly_wage'\u001b[0m\u001b[0;34m]\u001b[0m\u001b[0;34m\u001b[0m\u001b[0;34m\u001b[0m\u001b[0m\n\u001b[1;32m      6\u001b[0m \u001b[0;34m\u001b[0m\u001b[0m\n",
            "\u001b[0;31mNameError\u001b[0m: name 'filtered_data' is not defined"
          ]
        }
      ]
    },
    {
      "cell_type": "code",
      "source": [
        "# ----------------------------------------------------------------------\n",
        "# Validación cruzada K-Fold\n",
        "# ----------------------------------------------------------------------\n",
        "kf = KFold(n_splits=5, shuffle=True, random_state=123)\n",
        "\n",
        "print(\"\\nResultados de K-Fold (5-fold):\")\n",
        "for model_name in sorted(results, key=results.get)[:2]:\n",
        "    model = models[model_name]\n",
        "    scores = cross_val_score(model, X, y, cv=kf, scoring='neg_mean_squared_error')\n",
        "    rmse_kfold = np.sqrt(-scores.mean())\n",
        "    print(f\"{model_name} (K-Fold): RMSE = {rmse_kfold:.2f}\")"
      ],
      "metadata": {
        "id": "aIRCjQfb1UTK"
      },
      "execution_count": null,
      "outputs": []
    }
  ],
  "metadata": {
    "kernelspec": {
      "display_name": "Python (Pyodide)",
      "language": "python",
      "name": "python"
    },
    "language_info": {
      "codemirror_mode": {
        "name": "python",
        "version": 3
      },
      "file_extension": ".py",
      "mimetype": "text/x-python",
      "name": "python",
      "nbconvert_exporter": "python",
      "pygments_lexer": "ipython3",
      "version": "3.8"
    },
    "colab": {
      "provenance": []
    }
  },
  "nbformat": 4,
  "nbformat_minor": 0
}